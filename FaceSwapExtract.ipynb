{
  "nbformat": 4,
  "nbformat_minor": 0,
  "metadata": {
    "colab": {
      "name": "TensorFlow with GPU",
      "provenance": [],
      "collapsed_sections": [],
      "toc_visible": true,
      "include_colab_link": true
    },
    "kernelspec": {
      "name": "python3",
      "display_name": "Python 3"
    },
    "accelerator": "GPU"
  },
  "cells": [
    {
      "cell_type": "markdown",
      "metadata": {
        "id": "view-in-github",
        "colab_type": "text"
      },
      "source": [
        "<a href=\"https://colab.research.google.com/github/Kabilan21/Data_Structure/blob/master/FaceSwapExtract.ipynb\" target=\"_parent\"><img src=\"https://colab.research.google.com/assets/colab-badge.svg\" alt=\"Open In Colab\"/></a>"
      ]
    },
    {
      "cell_type": "code",
      "metadata": {
        "id": "eQ5o_nnHfHEG",
        "colab_type": "code",
        "colab": {}
      },
      "source": [
        "from google.colab import drive\n",
        "drive.mount('/content/drive')"
      ],
      "execution_count": 0,
      "outputs": []
    },
    {
      "cell_type": "code",
      "metadata": {
        "id": "cHfjKOWkiCUt",
        "colab_type": "code",
        "colab": {}
      },
      "source": [
        "%cd /content/drive/My Drive/faceswap"
      ],
      "execution_count": 0,
      "outputs": []
    },
    {
      "cell_type": "code",
      "metadata": {
        "id": "vZ2XaUrDiCKq",
        "colab_type": "code",
        "colab": {}
      },
      "source": [
        "!pip install fastcluster\n",
        "!pip install scandir\n",
        "!pip install face_recognition\n",
        "!pip install imageio_ffmpeg"
      ],
      "execution_count": 0,
      "outputs": []
    },
    {
      "cell_type": "code",
      "metadata": {
        "id": "RNWn-aLJeOjR",
        "colab_type": "code",
        "colab": {}
      },
      "source": [
        "!python faceswap.py extract -i \"/content/drive/My Drive/faceswap/InputA/ale.mp4\" -o \"/content/drive/My Drive/faceswap/FaceA\" -D cv2-dnn -A cv2-dnn -M extended -nm none -min 0 -l 0.4 -een 1 -sz 256 -si 0 -L INFO"
      ],
      "execution_count": 0,
      "outputs": []
    },
    {
      "cell_type": "code",
      "metadata": {
        "colab_type": "code",
        "id": "-Kr1lFN9jnm9",
        "colab": {}
      },
      "source": [
        "!python faceswap.py extract -i \"/content/drive/My Drive/faceswap/InputA/oliver.mp4\" -o \"/content/drive/My Drive/faceswap/FaceB\" -D cv2-dnn -A cv2-dnn -M extended -nm none -min 0 -l 0.4 -een 1 -sz 256 -si 0 -L INFO"
      ],
      "execution_count": 0,
      "outputs": []
    }
  ]
}