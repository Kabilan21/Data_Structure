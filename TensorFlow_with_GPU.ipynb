{
  "nbformat": 4,
  "nbformat_minor": 0,
  "metadata": {
    "colab": {
      "name": "TensorFlow with GPU",
      "provenance": [],
      "collapsed_sections": [],
      "toc_visible": true,
      "include_colab_link": true
    },
    "kernelspec": {
      "name": "python3",
      "display_name": "Python 3"
    },
    "accelerator": "GPU"
  },
  "cells": [
    {
      "cell_type": "markdown",
      "metadata": {
        "id": "view-in-github",
        "colab_type": "text"
      },
      "source": [
        "<a href=\"https://colab.research.google.com/github/Kabilan21/Data_Structure/blob/master/TensorFlow_with_GPU.ipynb\" target=\"_parent\"><img src=\"https://colab.research.google.com/assets/colab-badge.svg\" alt=\"Open In Colab\"/></a>"
      ]
    },
    {
      "cell_type": "code",
      "metadata": {
        "id": "macviIs-EG8r",
        "colab_type": "code",
        "outputId": "ff80e7cc-0c02-4e08-e227-75b08a96e0c8",
        "colab": {
          "base_uri": "https://localhost:8080/",
          "height": 122
        }
      },
      "source": [
        "from google.colab import drive\n",
        "drive.mount('/content/drive')"
      ],
      "execution_count": 1,
      "outputs": [
        {
          "output_type": "stream",
          "text": [
            "Go to this URL in a browser: https://accounts.google.com/o/oauth2/auth?client_id=947318989803-6bn6qk8qdgf4n4g3pfee6491hc0brc4i.apps.googleusercontent.com&redirect_uri=urn%3aietf%3awg%3aoauth%3a2.0%3aoob&response_type=code&scope=email%20https%3a%2f%2fwww.googleapis.com%2fauth%2fdocs.test%20https%3a%2f%2fwww.googleapis.com%2fauth%2fdrive%20https%3a%2f%2fwww.googleapis.com%2fauth%2fdrive.photos.readonly%20https%3a%2f%2fwww.googleapis.com%2fauth%2fpeopleapi.readonly\n",
            "\n",
            "Enter your authorization code:\n",
            "··········\n",
            "Mounted at /content/drive\n"
          ],
          "name": "stdout"
        }
      ]
    },
    {
      "cell_type": "code",
      "metadata": {
        "id": "AkdUYg4Tsbwn",
        "colab_type": "code",
        "outputId": "73119cf7-833b-4ab0-de45-6359a1ebf4cb",
        "colab": {
          "base_uri": "https://localhost:8080/",
          "height": 34
        }
      },
      "source": [
        "%cd /content/drive/My Drive/faceswap"
      ],
      "execution_count": 2,
      "outputs": [
        {
          "output_type": "stream",
          "text": [
            "/content/drive/My Drive/faceswap\n"
          ],
          "name": "stdout"
        }
      ]
    },
    {
      "cell_type": "code",
      "metadata": {
        "id": "jX3ayWPvfd_Q",
        "colab_type": "code",
        "outputId": "8d23fc30-d22a-45e2-9511-ae58c30797d1",
        "colab": {
          "base_uri": "https://localhost:8080/",
          "height": 122
        }
      },
      "source": [
        "!pip install imageio_ffmpeg"
      ],
      "execution_count": 3,
      "outputs": [
        {
          "output_type": "stream",
          "text": [
            "Collecting imageio_ffmpeg\n",
            "\u001b[?25l  Downloading https://files.pythonhosted.org/packages/1b/12/01126a2fb737b23461d7dadad3b8abd51ad6210f979ff05c6fa9812dfbbe/imageio_ffmpeg-0.3.0-py3-none-manylinux2010_x86_64.whl (22.2MB)\n",
            "\u001b[K     |████████████████████████████████| 22.2MB 1.3MB/s \n",
            "\u001b[?25hInstalling collected packages: imageio-ffmpeg\n",
            "Successfully installed imageio-ffmpeg-0.3.0\n"
          ],
          "name": "stdout"
        }
      ]
    },
    {
      "cell_type": "code",
      "metadata": {
        "id": "TgEjHakTfzLm",
        "colab_type": "code",
        "outputId": "eb5442ff-9482-48c0-ad88-38b24a0b33ca",
        "colab": {
          "base_uri": "https://localhost:8080/",
          "height": 428
        }
      },
      "source": [
        "!pip install fastcluster\n",
        "!pip install face_recognition"
      ],
      "execution_count": 4,
      "outputs": [
        {
          "output_type": "stream",
          "text": [
            "Collecting fastcluster\n",
            "\u001b[?25l  Downloading https://files.pythonhosted.org/packages/77/fc/19660c0d866840b65032df2263b4a04ad3e4ab9aaaf2a2d07fdbf990ffb1/fastcluster-1.1.25-cp36-cp36m-manylinux1_x86_64.whl (153kB)\n",
            "\r\u001b[K     |██▏                             | 10kB 29.9MB/s eta 0:00:01\r\u001b[K     |████▎                           | 20kB 5.9MB/s eta 0:00:01\r\u001b[K     |██████▍                         | 30kB 8.5MB/s eta 0:00:01\r\u001b[K     |████████▌                       | 40kB 5.5MB/s eta 0:00:01\r\u001b[K     |██████████▊                     | 51kB 6.7MB/s eta 0:00:01\r\u001b[K     |████████████▉                   | 61kB 7.9MB/s eta 0:00:01\r\u001b[K     |███████████████                 | 71kB 9.1MB/s eta 0:00:01\r\u001b[K     |█████████████████               | 81kB 10.2MB/s eta 0:00:01\r\u001b[K     |███████████████████▎            | 92kB 11.3MB/s eta 0:00:01\r\u001b[K     |█████████████████████▍          | 102kB 8.8MB/s eta 0:00:01\r\u001b[K     |███████████████████████▌        | 112kB 8.8MB/s eta 0:00:01\r\u001b[K     |█████████████████████████▋      | 122kB 8.8MB/s eta 0:00:01\r\u001b[K     |███████████████████████████▉    | 133kB 8.8MB/s eta 0:00:01\r\u001b[K     |██████████████████████████████  | 143kB 8.8MB/s eta 0:00:01\r\u001b[K     |████████████████████████████████| 153kB 8.8MB/s \n",
            "\u001b[?25hRequirement already satisfied: numpy>=1.9 in /usr/local/lib/python3.6/dist-packages (from fastcluster) (1.17.4)\n",
            "Installing collected packages: fastcluster\n",
            "Successfully installed fastcluster-1.1.25\n",
            "Collecting face_recognition\n",
            "  Downloading https://files.pythonhosted.org/packages/3f/ed/ad9a28042f373d4633fc8b49109b623597d6f193d3bbbef7780a5ee8eef2/face_recognition-1.2.3-py2.py3-none-any.whl\n",
            "Requirement already satisfied: Pillow in /usr/local/lib/python3.6/dist-packages (from face_recognition) (4.3.0)\n",
            "Requirement already satisfied: numpy in /usr/local/lib/python3.6/dist-packages (from face_recognition) (1.17.4)\n",
            "Requirement already satisfied: dlib>=19.7 in /usr/local/lib/python3.6/dist-packages (from face_recognition) (19.18.0)\n",
            "Requirement already satisfied: Click>=6.0 in /usr/local/lib/python3.6/dist-packages (from face_recognition) (7.0)\n",
            "Collecting face-recognition-models>=0.3.0\n",
            "\u001b[?25l  Downloading https://files.pythonhosted.org/packages/cf/3b/4fd8c534f6c0d1b80ce0973d01331525538045084c73c153ee6df20224cf/face_recognition_models-0.3.0.tar.gz (100.1MB)\n",
            "\u001b[K     |████████████████████████████████| 100.2MB 93kB/s \n",
            "\u001b[?25hRequirement already satisfied: olefile in /usr/local/lib/python3.6/dist-packages (from Pillow->face_recognition) (0.46)\n",
            "Building wheels for collected packages: face-recognition-models\n",
            "  Building wheel for face-recognition-models (setup.py) ... \u001b[?25l\u001b[?25hdone\n",
            "  Created wheel for face-recognition-models: filename=face_recognition_models-0.3.0-py2.py3-none-any.whl size=100566176 sha256=fb2209036473fcffffa80ec9b5e326f0436caddd4a9693fc9b54c43a96847a62\n",
            "  Stored in directory: /root/.cache/pip/wheels/d2/99/18/59c6c8f01e39810415c0e63f5bede7d83dfb0ffc039865465f\n",
            "Successfully built face-recognition-models\n",
            "Installing collected packages: face-recognition-models, face-recognition\n",
            "Successfully installed face-recognition-1.2.3 face-recognition-models-0.3.0\n"
          ],
          "name": "stdout"
        }
      ]
    },
    {
      "cell_type": "code",
      "metadata": {
        "id": "naPxArt046y1",
        "colab_type": "code",
        "outputId": "9243b3c5-5954-42f6-9a2a-3b0844663a3f",
        "colab": {
          "base_uri": "https://localhost:8080/",
          "height": 190
        }
      },
      "source": [
        "!pip install scandir"
      ],
      "execution_count": 5,
      "outputs": [
        {
          "output_type": "stream",
          "text": [
            "Collecting scandir\n",
            "  Downloading https://files.pythonhosted.org/packages/df/f5/9c052db7bd54d0cbf1bc0bb6554362bba1012d03e5888950a4f5c5dadc4e/scandir-1.10.0.tar.gz\n",
            "Building wheels for collected packages: scandir\n",
            "  Building wheel for scandir (setup.py) ... \u001b[?25l\u001b[?25hdone\n",
            "  Created wheel for scandir: filename=scandir-1.10.0-cp36-cp36m-linux_x86_64.whl size=39853 sha256=9755e3df8540955b9b5cb008924c5b7421e2a05629336fd0c4d9724cd33eab43\n",
            "  Stored in directory: /root/.cache/pip/wheels/91/95/75/19c98a91239878abbc7c59970abd3b4e0438a7dd5b61778335\n",
            "Successfully built scandir\n",
            "Installing collected packages: scandir\n",
            "Successfully installed scandir-1.10.0\n"
          ],
          "name": "stdout"
        }
      ]
    },
    {
      "cell_type": "code",
      "metadata": {
        "id": "-hYR7s2Em2ha",
        "colab_type": "code",
        "colab": {}
      },
      "source": [
        "!python faceswap.py convert -i \"/content/drive/My Drive/faceswap/InputA/ale.mp4\" -o \"/content/drive/My Drive/faceswap/OutputFaces\" -ref \"/content/drive/My Drive/faceswap/InputA/ale.mp4\" -m \"/content/drive/My Drive/faceswap/OutputModel_snapshot_25001_iters\" -c avg-color -M extended -sc none -w opencv -osc 100 -l 0.4 -j 0 -L INFO\n"
      ],
      "execution_count": 0,
      "outputs": []
    },
    {
      "cell_type": "code",
      "metadata": {
        "id": "h-nTq9z7Gc4b",
        "colab_type": "code",
        "colab": {}
      },
      "source": [
        "!cp -r '/content/drive/My Drive/faceswap/OutputModel_snapshot_25001_iters/original_encoder.h5' '/content/drive/My Drive/faceit_live-master/models/ale_to_oliver'"
      ],
      "execution_count": 0,
      "outputs": []
    },
    {
      "cell_type": "code",
      "metadata": {
        "id": "2fTC81EFHGCx",
        "colab_type": "code",
        "colab": {}
      },
      "source": [
        "!cp -r '/content/drive/My Drive/faceswap/FaceA/ale_000001_0.png' '/content/drive/My Drive/faceit_live-master/data/persons'"
      ],
      "execution_count": 0,
      "outputs": []
    },
    {
      "cell_type": "code",
      "metadata": {
        "id": "ONXRwcqwdejS",
        "colab_type": "code",
        "colab": {}
      },
      "source": [
        ""
      ],
      "execution_count": 0,
      "outputs": []
    },
    {
      "cell_type": "code",
      "metadata": {
        "id": "ckHy--LshRFq",
        "colab_type": "code",
        "outputId": "cb0800fc-c1bc-4e51-8d9b-2f74c8248056",
        "colab": {
          "base_uri": "https://localhost:8080/",
          "height": 267
        }
      },
      "source": [
        "!python faceswap.py train -A \"/content/drive/My Drive/faceswap/FaceA\" -B \"/content/drive/My Drive/faceswap/FaceB\" -m \"/content/drive/My Drive/faceswap/OutputModel\" -t original -bs 32 -it 1000000 -s 100 -ss 25000 -ps 50 -L INFO\n"
      ],
      "execution_count": 0,
      "outputs": [
        {
          "output_type": "stream",
          "text": [
            "Setting Faceswap backend to NVIDIA\n",
            "12/15/2019 02:13:57 INFO     Log level set to: INFO\n",
            "Using TensorFlow backend.\n",
            "12/15/2019 02:14:39 INFO     Model A Directory: /content/drive/My Drive/faceswap/FaceA\n",
            "12/15/2019 02:14:39 INFO     Model B Directory: /content/drive/My Drive/faceswap/FaceB\n",
            "12/15/2019 02:14:39 INFO     Training data directory: /content/drive/My Drive/faceswap/OutputModel\n",
            "12/15/2019 02:14:39 INFO     ===================================================\n",
            "12/15/2019 02:14:39 INFO       Starting\n",
            "12/15/2019 02:14:39 INFO       Press 'ENTER' to save and quit\n",
            "12/15/2019 02:14:39 INFO       Press 'S' to save model weights immediately\n",
            "12/15/2019 02:14:39 INFO     ===================================================\n",
            "12/15/2019 02:14:40 INFO     Loading data, this may take a while...\n",
            "12/15/2019 02:14:40 INFO     Loading Model from Original plugin...\n"
          ],
          "name": "stdout"
        }
      ]
    }
  ]
}