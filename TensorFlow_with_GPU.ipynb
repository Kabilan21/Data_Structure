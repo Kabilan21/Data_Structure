{
  "nbformat": 4,
  "nbformat_minor": 0,
  "metadata": {
    "colab": {
      "name": "TensorFlow with GPU",
      "provenance": [],
      "collapsed_sections": [],
      "toc_visible": true,
      "include_colab_link": true
    },
    "kernelspec": {
      "name": "python3",
      "display_name": "Python 3"
    },
    "accelerator": "GPU"
  },
  "cells": [
    {
      "cell_type": "markdown",
      "metadata": {
        "id": "view-in-github",
        "colab_type": "text"
      },
      "source": [
        "<a href=\"https://colab.research.google.com/github/Kabilan21/Data_Structure/blob/master/TensorFlow_with_GPU.ipynb\" target=\"_parent\"><img src=\"https://colab.research.google.com/assets/colab-badge.svg\" alt=\"Open In Colab\"/></a>"
      ]
    },
    {
      "cell_type": "code",
      "metadata": {
        "id": "macviIs-EG8r",
        "colab_type": "code",
        "colab": {}
      },
      "source": [
        "from google.colab import drive\n",
        "drive.mount('/content/drive')"
      ],
      "execution_count": 0,
      "outputs": []
    },
    {
      "cell_type": "code",
      "metadata": {
        "id": "AkdUYg4Tsbwn",
        "colab_type": "code",
        "colab": {}
      },
      "source": [
        "%cd /content/drive/My Drive/faceswap"
      ],
      "execution_count": 0,
      "outputs": []
    },
    {
      "cell_type": "code",
      "metadata": {
        "id": "jX3ayWPvfd_Q",
        "colab_type": "code",
        "colab": {}
      },
      "source": [
        "!pip install imageio_ffmpeg"
      ],
      "execution_count": 0,
      "outputs": []
    },
    {
      "cell_type": "code",
      "metadata": {
        "id": "TgEjHakTfzLm",
        "colab_type": "code",
        "colab": {}
      },
      "source": [
        "!pip install fastcluster\n",
        "!pip install face_recognition"
      ],
      "execution_count": 0,
      "outputs": []
    },
    {
      "cell_type": "code",
      "metadata": {
        "id": "naPxArt046y1",
        "colab_type": "code",
        "colab": {}
      },
      "source": [
        "!pip install scandir"
      ],
      "execution_count": 0,
      "outputs": []
    },
    {
      "cell_type": "code",
      "metadata": {
        "id": "ckHy--LshRFq",
        "colab_type": "code",
        "outputId": "cb0800fc-c1bc-4e51-8d9b-2f74c8248056",
        "colab": {
          "base_uri": "https://localhost:8080/",
          "height": 440
        }
      },
      "source": [
        "!python faceswap.py train -A \"/content/drive/My Drive/faceswap/FaceA\" -B \"/content/drive/My Drive/faceswap/FaceB\" -m \"/content/drive/My Drive/faceswap/OutputModel\" -t original -bs 32 -it 1000000 -s 100 -ss 25000 -ps 50 -L INFO\n"
      ],
      "execution_count": 0,
      "outputs": [
        {
          "output_type": "stream",
          "text": [
            "Setting Faceswap backend to NVIDIA\n",
            "12/15/2019 02:13:57 INFO     Log level set to: INFO\n",
            "Using TensorFlow backend.\n",
            "12/15/2019 02:14:39 INFO     Model A Directory: /content/drive/My Drive/faceswap/FaceA\n",
            "12/15/2019 02:14:39 INFO     Model B Directory: /content/drive/My Drive/faceswap/FaceB\n",
            "12/15/2019 02:14:39 INFO     Training data directory: /content/drive/My Drive/faceswap/OutputModel\n",
            "12/15/2019 02:14:39 INFO     ===================================================\n",
            "12/15/2019 02:14:39 INFO       Starting\n",
            "12/15/2019 02:14:39 INFO       Press 'ENTER' to save and quit\n",
            "12/15/2019 02:14:39 INFO       Press 'S' to save model weights immediately\n",
            "12/15/2019 02:14:39 INFO     ===================================================\n",
            "12/15/2019 02:14:40 INFO     Loading data, this may take a while...\n",
            "12/15/2019 02:14:40 INFO     Loading Model from Original plugin...\n",
            "12/15/2019 02:14:52 INFO     Using configuration saved in state file\n",
            "12/15/2019 02:15:12 INFO     Loaded model from disk: '/content/drive/My Drive/faceswap/OutputModel'\n",
            "12/15/2019 02:15:12 INFO     Loading Trainer from Original plugin...\n",
            "12/15/2019 02:15:16 INFO     Enabled TensorBoard Logging\n",
            "[02:15:35] [#70831] Loss A: 0.02530, Loss B: 0.02242\n",
            "12/15/2019 02:15:35 INFO     Backing up models...\n",
            "12/15/2019 02:15:36 INFO     [Saved models] - Average since last save: face_loss_A: 0.02530, face_loss_B: 0.02242\n",
            "[02:17:42] [#70931] Loss A: 0.02897, Loss B: 0.02668\n",
            "12/15/2019 02:17:45 INFO     [Saved models] - Average since last save: face_loss_A: 0.02902, face_loss_B: 0.02619\n",
            "[02:18:11] [#70951] Loss A: 0.02881, Loss B: 0.02701"
          ],
          "name": "stdout"
        }
      ]
    }
  ]
}