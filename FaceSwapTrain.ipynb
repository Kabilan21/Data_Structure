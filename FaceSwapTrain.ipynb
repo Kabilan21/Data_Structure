{
  "nbformat": 4,
  "nbformat_minor": 0,
  "metadata": {
    "colab": {
      "name": "TensorFlow with GPU",
      "provenance": [],
      "collapsed_sections": [],
      "toc_visible": true,
      "include_colab_link": true
    },
    "kernelspec": {
      "name": "python3",
      "display_name": "Python 3"
    },
    "accelerator": "GPU"
  },
  "cells": [
    {
      "cell_type": "markdown",
      "metadata": {
        "id": "view-in-github",
        "colab_type": "text"
      },
      "source": [
        "<a href=\"https://colab.research.google.com/github/Kabilan21/Data_Structure/blob/master/FaceSwapTrain.ipynb\" target=\"_parent\"><img src=\"https://colab.research.google.com/assets/colab-badge.svg\" alt=\"Open In Colab\"/></a>"
      ]
    },
    {
      "cell_type": "code",
      "metadata": {
        "id": "eQ5o_nnHfHEG",
        "colab_type": "code",
        "colab": {}
      },
      "source": [
        "from google.colab import drive\n",
        "drive.mount('/content/drive')"
      ],
      "execution_count": 0,
      "outputs": []
    },
    {
      "cell_type": "code",
      "metadata": {
        "id": "cHfjKOWkiCUt",
        "colab_type": "code",
        "colab": {}
      },
      "source": [
        "%cd /content/drive/My Drive/faceswap"
      ],
      "execution_count": 0,
      "outputs": []
    },
    {
      "cell_type": "code",
      "metadata": {
        "id": "vZ2XaUrDiCKq",
        "colab_type": "code",
        "colab": {}
      },
      "source": [
        "!pip install fastcluster\n",
        "!pip install scandir\n",
        "!pip install face_recognition"
      ],
      "execution_count": 0,
      "outputs": []
    },
    {
      "cell_type": "code",
      "metadata": {
        "id": "rn-LItemiCCh",
        "colab_type": "code",
        "colab": {}
      },
      "source": [
        "!pip install imageio_ffmpeg"
      ],
      "execution_count": 0,
      "outputs": []
    },
    {
      "cell_type": "code",
      "metadata": {
        "id": "e2LjwaIhiB5k",
        "colab_type": "code",
        "colab": {}
      },
      "source": [
        "!python faceswap.py train -A \"/content/drive/My Drive/faceswap/FaceA\" -B \"/content/drive/My Drive/faceswap/FaceB\" -m \"/content/drive/My Drive/faceswap/OutputModel\" -t original -bs 64 -it 1500000 -s 100 -ss 25000 -ps 50 -L INFO"
      ],
      "execution_count": 0,
      "outputs": []
    },
    {
      "cell_type": "code",
      "metadata": {
        "id": "wuZZtKT9dK7s",
        "colab_type": "code",
        "colab": {}
      },
      "source": [
        "!cp -r '/content/drive/My Drive/faceswap/OutputModel_snapshot_100001_iters/original_encoder.h5' '/content/drive/My Drive/faceit_live-master/models/ale_to_oliver'"
      ],
      "execution_count": 0,
      "outputs": []
    },
    {
      "cell_type": "code",
      "metadata": {
        "id": "So8Nff0YFZEJ",
        "colab_type": "code",
        "colab": {}
      },
      "source": [
        "!cp -r '/content/drive/My Drive/faceswap/OutputModel_snapshot_100001_iters/original_decoder_A.h5' '/content/drive/My Drive/faceit_live-master/models/ale_to_oliver'"
      ],
      "execution_count": 0,
      "outputs": []
    },
    {
      "cell_type": "code",
      "metadata": {
        "id": "1aWznKl1FY79",
        "colab_type": "code",
        "colab": {}
      },
      "source": [
        "!cp -r '/content/drive/My Drive/faceswap/OutputModel_snapshot_100001_iters/original_decoder_B.h5' '/content/drive/My Drive/faceit_live-master/models/ale_to_oliver'"
      ],
      "execution_count": 0,
      "outputs": []
    }
  ]
}